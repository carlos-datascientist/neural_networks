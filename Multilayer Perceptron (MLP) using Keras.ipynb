{
 "cells": [
  {
   "cell_type": "markdown",
   "metadata": {},
   "source": [
    "### Project Objectives:\n",
    "- In this project I aim to predict the type of clothing item using neural network model in Keras\n",
    "- Author: Carlos Caballero - Data Scientist\n",
    "- Dataset: Fashion MNIST\n",
    "- Models: Multilayer Perceptron (MLP), with stochastic gradient descent (SGD), and softmax as activation function\n",
    "- Method: Fit images and evaluate performance"
   ]
  },
  {
   "cell_type": "code",
   "execution_count": 1,
   "metadata": {},
   "outputs": [],
   "source": [
    "import pandas as pd\n",
    "import numpy as np\n",
    "import scipy as sc\n",
    "import seaborn as sns\n",
    "import sklearn\n",
    "import csv\n",
    "import matplotlib.pyplot as plt\n",
    "%matplotlib inline \n",
    "import tensorflow as tf\n",
    "from tensorflow import keras"
   ]
  },
  {
   "cell_type": "code",
   "execution_count": 2,
   "metadata": {},
   "outputs": [],
   "source": [
    "fashion_mnist = keras.datasets.fashion_mnist\n",
    "(X_train_full, y_train_full), (X_test, y_test) = fashion_mnist.load_data()"
   ]
  },
  {
   "cell_type": "code",
   "execution_count": 3,
   "metadata": {},
   "outputs": [
    {
     "name": "stdout",
     "output_type": "stream",
     "text": [
      "(60000, 28, 28)\n",
      "uint8\n"
     ]
    }
   ],
   "source": [
    "# Examine shape of data\n",
    "print(X_train_full.shape)\n",
    "print(X_train_full.dtype)"
   ]
  },
  {
   "cell_type": "code",
   "execution_count": 4,
   "metadata": {},
   "outputs": [],
   "source": [
    "# Create evaluatio set and scale input features since using Gradient Descent to train the neural network\n",
    "# Scale pixel intensities down to 0-1 range by dividing them by 255.0\n",
    "X_valid, X_train = X_train_full[:5000] / 255.0, X_train_full[5000:] / 255.0\n",
    "y_valid, y_train = y_train_full[:5000], y_train_full[5000:]"
   ]
  },
  {
   "cell_type": "code",
   "execution_count": 5,
   "metadata": {},
   "outputs": [],
   "source": [
    "# List class names\n",
    "class_names = ['T-shirt/top', 'Trouser', 'Pullover', 'Dress', 'Coat',\n",
    "              'Sandal', 'Shirt', 'Sneaker', 'Bag', 'Ankle boot']"
   ]
  },
  {
   "cell_type": "code",
   "execution_count": 6,
   "metadata": {},
   "outputs": [
    {
     "data": {
      "text/plain": [
       "'Coat'"
      ]
     },
     "execution_count": 6,
     "metadata": {},
     "output_type": "execute_result"
    }
   ],
   "source": [
    "# Look at first record of training data\n",
    "class_names[y_train[0]]"
   ]
  },
  {
   "cell_type": "markdown",
   "metadata": {},
   "source": [
    "### Create Model/Neural Network"
   ]
  },
  {
   "cell_type": "code",
   "execution_count": 7,
   "metadata": {},
   "outputs": [
    {
     "name": "stderr",
     "output_type": "stream",
     "text": [
      "Using TensorFlow backend.\n"
     ]
    }
   ],
   "source": [
    "import tensorflow as tf\n",
    "from tensorflow import keras\n",
    "from keras.models import Sequential\n",
    "from keras.layers import Dense, Activation\n",
    "\n",
    "model = keras.models.Sequential([\n",
    "    keras.layers.Flatten(input_shape=[28,28]), # performs simple preprocessing X.shape(-1,1)\n",
    "    keras.layers.Dense(300, activation='relu'),\n",
    "    keras.layers.Dense(100, activation='relu'),\n",
    "    keras.layers.Dense(10, activation='softmax')\n",
    "])"
   ]
  },
  {
   "cell_type": "code",
   "execution_count": 8,
   "metadata": {},
   "outputs": [
    {
     "name": "stdout",
     "output_type": "stream",
     "text": [
      "Model: \"sequential\"\n",
      "_________________________________________________________________\n",
      "Layer (type)                 Output Shape              Param #   \n",
      "=================================================================\n",
      "flatten (Flatten)            (None, 784)               0         \n",
      "_________________________________________________________________\n",
      "dense (Dense)                (None, 300)               235500    \n",
      "_________________________________________________________________\n",
      "dense_1 (Dense)              (None, 100)               30100     \n",
      "_________________________________________________________________\n",
      "dense_2 (Dense)              (None, 10)                1010      \n",
      "=================================================================\n",
      "Total params: 266,610\n",
      "Trainable params: 266,610\n",
      "Non-trainable params: 0\n",
      "_________________________________________________________________\n"
     ]
    }
   ],
   "source": [
    "model.summary()"
   ]
  },
  {
   "cell_type": "code",
   "execution_count": 9,
   "metadata": {},
   "outputs": [
    {
     "data": {
      "text/plain": [
       "[<tensorflow.python.keras.layers.core.Flatten at 0x1dcb8b93648>,\n",
       " <tensorflow.python.keras.layers.core.Dense at 0x1dcd5871e08>,\n",
       " <tensorflow.python.keras.layers.core.Dense at 0x1dcd587d4c8>,\n",
       " <tensorflow.python.keras.layers.core.Dense at 0x1dcd587d988>]"
      ]
     },
     "execution_count": 9,
     "metadata": {},
     "output_type": "execute_result"
    }
   ],
   "source": [
    "# Verify model layers\n",
    "model.layers"
   ]
  },
  {
   "cell_type": "code",
   "execution_count": 12,
   "metadata": {},
   "outputs": [],
   "source": [
    "# Compile model\n",
    "model.compile(loss='sparse_categorical_crossentropy',\n",
    "             optimizer = 'sgd', #stochastic gradient descent, default learning rate = 0.01\n",
    "             metrics=['accuracy'])"
   ]
  },
  {
   "cell_type": "code",
   "execution_count": 14,
   "metadata": {},
   "outputs": [
    {
     "name": "stdout",
     "output_type": "stream",
     "text": [
      "Train on 55000 samples, validate on 5000 samples\n",
      "Epoch 1/30\n",
      "55000/55000 [==============================] - 2s 45us/sample - loss: 0.7213 - accuracy: 0.7652 - val_loss: 0.5123 - val_accuracy: 0.8218\n",
      "Epoch 2/30\n",
      "55000/55000 [==============================] - 2s 39us/sample - loss: 0.4869 - accuracy: 0.8300 - val_loss: 0.4599 - val_accuracy: 0.8458\n",
      "Epoch 3/30\n",
      "55000/55000 [==============================] - 2s 40us/sample - loss: 0.4442 - accuracy: 0.8446 - val_loss: 0.4160 - val_accuracy: 0.8586\n",
      "Epoch 4/30\n",
      "55000/55000 [==============================] - 2s 40us/sample - loss: 0.4162 - accuracy: 0.8529 - val_loss: 0.3943 - val_accuracy: 0.8646\n",
      "Epoch 5/30\n",
      "55000/55000 [==============================] - 2s 41us/sample - loss: 0.3955 - accuracy: 0.8604 - val_loss: 0.3877 - val_accuracy: 0.8642\n",
      "Epoch 6/30\n",
      "55000/55000 [==============================] - 2s 41us/sample - loss: 0.3787 - accuracy: 0.8661 - val_loss: 0.3742 - val_accuracy: 0.8686\n",
      "Epoch 7/30\n",
      "55000/55000 [==============================] - 2s 40us/sample - loss: 0.3646 - accuracy: 0.8707 - val_loss: 0.3966 - val_accuracy: 0.8562\n",
      "Epoch 8/30\n",
      "55000/55000 [==============================] - 2s 41us/sample - loss: 0.3544 - accuracy: 0.8742 - val_loss: 0.3520 - val_accuracy: 0.8738\n",
      "Epoch 9/30\n",
      "55000/55000 [==============================] - 2s 41us/sample - loss: 0.3424 - accuracy: 0.8790 - val_loss: 0.3618 - val_accuracy: 0.8714\n",
      "Epoch 10/30\n",
      "55000/55000 [==============================] - 2s 41us/sample - loss: 0.3338 - accuracy: 0.8815 - val_loss: 0.3612 - val_accuracy: 0.8752\n",
      "Epoch 11/30\n",
      "55000/55000 [==============================] - 2s 40us/sample - loss: 0.3256 - accuracy: 0.8841 - val_loss: 0.3397 - val_accuracy: 0.8774\n",
      "Epoch 12/30\n",
      "55000/55000 [==============================] - 2s 42us/sample - loss: 0.3179 - accuracy: 0.8858 - val_loss: 0.3322 - val_accuracy: 0.8826\n",
      "Epoch 13/30\n",
      "55000/55000 [==============================] - 2s 42us/sample - loss: 0.3106 - accuracy: 0.8886 - val_loss: 0.3218 - val_accuracy: 0.8848\n",
      "Epoch 14/30\n",
      "55000/55000 [==============================] - 2s 41us/sample - loss: 0.3034 - accuracy: 0.8907 - val_loss: 0.3347 - val_accuracy: 0.8776\n",
      "Epoch 15/30\n",
      "55000/55000 [==============================] - 2s 41us/sample - loss: 0.2969 - accuracy: 0.8937 - val_loss: 0.3266 - val_accuracy: 0.8850\n",
      "Epoch 16/30\n",
      "55000/55000 [==============================] - 2s 40us/sample - loss: 0.2909 - accuracy: 0.8953 - val_loss: 0.3237 - val_accuracy: 0.8826\n",
      "Epoch 17/30\n",
      "55000/55000 [==============================] - 2s 40us/sample - loss: 0.2845 - accuracy: 0.8971 - val_loss: 0.3425 - val_accuracy: 0.8752\n",
      "Epoch 18/30\n",
      "55000/55000 [==============================] - 2s 42us/sample - loss: 0.2802 - accuracy: 0.8995 - val_loss: 0.3145 - val_accuracy: 0.8894\n",
      "Epoch 19/30\n",
      "55000/55000 [==============================] - 2s 41us/sample - loss: 0.2753 - accuracy: 0.9004 - val_loss: 0.3114 - val_accuracy: 0.8868\n",
      "Epoch 20/30\n",
      "55000/55000 [==============================] - 2s 40us/sample - loss: 0.2688 - accuracy: 0.9025 - val_loss: 0.3279 - val_accuracy: 0.8820\n",
      "Epoch 21/30\n",
      "55000/55000 [==============================] - 2s 41us/sample - loss: 0.2648 - accuracy: 0.9050 - val_loss: 0.3085 - val_accuracy: 0.8882\n",
      "Epoch 22/30\n",
      "55000/55000 [==============================] - 2s 41us/sample - loss: 0.2598 - accuracy: 0.9063 - val_loss: 0.3053 - val_accuracy: 0.8890\n",
      "Epoch 23/30\n",
      "55000/55000 [==============================] - 2s 42us/sample - loss: 0.2558 - accuracy: 0.9076 - val_loss: 0.2992 - val_accuracy: 0.8910\n",
      "Epoch 24/30\n",
      "55000/55000 [==============================] - 2s 42us/sample - loss: 0.2512 - accuracy: 0.9097 - val_loss: 0.3288 - val_accuracy: 0.8864\n",
      "Epoch 25/30\n",
      "55000/55000 [==============================] - 2s 42us/sample - loss: 0.2469 - accuracy: 0.9107 - val_loss: 0.3073 - val_accuracy: 0.8904\n",
      "Epoch 26/30\n",
      "55000/55000 [==============================] - 2s 42us/sample - loss: 0.2430 - accuracy: 0.9120 - val_loss: 0.3103 - val_accuracy: 0.8888\n",
      "Epoch 27/30\n",
      "55000/55000 [==============================] - 2s 42us/sample - loss: 0.2392 - accuracy: 0.9135 - val_loss: 0.3031 - val_accuracy: 0.8894\n",
      "Epoch 28/30\n",
      "55000/55000 [==============================] - 2s 43us/sample - loss: 0.2350 - accuracy: 0.9149 - val_loss: 0.3048 - val_accuracy: 0.8904\n",
      "Epoch 29/30\n",
      "55000/55000 [==============================] - 2s 42us/sample - loss: 0.2316 - accuracy: 0.9169 - val_loss: 0.3096 - val_accuracy: 0.8890\n",
      "Epoch 30/30\n",
      "55000/55000 [==============================] - 2s 42us/sample - loss: 0.2278 - accuracy: 0.9180 - val_loss: 0.2865 - val_accuracy: 0.8990\n"
     ]
    }
   ],
   "source": [
    "# Fit the model\n",
    "history = model.fit(X_train, y_train, epochs=30,\n",
    "                   validation_data = (X_valid, y_valid))"
   ]
  },
  {
   "cell_type": "code",
   "execution_count": 17,
   "metadata": {},
   "outputs": [
    {
     "data": {
      "image/png": "[encoded data removed]",
      "text/plain": [
       "<Figure size 864x576 with 1 Axes>"
      ]
     },
     "metadata": {
      "needs_background": "light"
     },
     "output_type": "display_data"
    }
   ],
   "source": [
    "# Visualize model\n",
    "pd.DataFrame(history.history).plot(figsize=(12,8))\n",
    "plt.grid(True)\n",
    "plt.gca().set_ylim(0,1) #set vertical range to [0-1]\n",
    "plt.show()"
   ]
  },
  {
   "cell_type": "code",
   "execution_count": 18,
   "metadata": {},
   "outputs": [
    {
     "name": "stdout",
     "output_type": "stream",
     "text": [
      "10000/10000 [==============================] - 0s 30us/sample - loss: 65.2312 - accuracy: 0.8501\n"
     ]
    },
    {
     "data": {
      "text/plain": [
       "[65.23121768860332, 0.8501]"
      ]
     },
     "execution_count": 18,
     "metadata": {},
     "output_type": "execute_result"
    }
   ],
   "source": [
    "# Evaluate model\n",
    "model.evaluate(X_test, y_test)"
   ]
  },
  {
   "cell_type": "code",
   "execution_count": 20,
   "metadata": {},
   "outputs": [
    {
     "data": {
      "text/plain": [
       "array([[0., 0., 0., 0., 0., 0., 0., 0., 0., 1.],\n",
       "       [0., 0., 1., 0., 0., 0., 0., 0., 0., 0.],\n",
       "       [0., 1., 0., 0., 0., 0., 0., 0., 0., 0.]], dtype=float32)"
      ]
     },
     "execution_count": 20,
     "metadata": {},
     "output_type": "execute_result"
    }
   ],
   "source": [
    "# Make predictions on 3 new instances\n",
    "X_new = X_test[:3]\n",
    "y_proba = model.predict(X_new)\n",
    "y_proba.round(2)"
   ]
  },
  {
   "cell_type": "code",
   "execution_count": 21,
   "metadata": {},
   "outputs": [
    {
     "data": {
      "text/plain": [
       "array([9, 2, 1], dtype=int64)"
      ]
     },
     "execution_count": 21,
     "metadata": {},
     "output_type": "execute_result"
    }
   ],
   "source": [
    "# Get class with highest estimated probability only\n",
    "y_pred = model.predict_classes(X_new)\n",
    "y_pred"
   ]
  },
  {
   "cell_type": "code",
   "execution_count": 22,
   "metadata": {},
   "outputs": [
    {
     "data": {
      "text/plain": [
       "array(['Ankle boot', 'Pullover', 'Trouser'], dtype='<U11')"
      ]
     },
     "execution_count": 22,
     "metadata": {},
     "output_type": "execute_result"
    }
   ],
   "source": [
    "np.array(class_names)[y_pred]"
   ]
  },
  {
   "cell_type": "code",
   "execution_count": 23,
   "metadata": {},
   "outputs": [
    {
     "data": {
      "text/plain": [
       "array([9, 2, 1], dtype=uint8)"
      ]
     },
     "execution_count": 23,
     "metadata": {},
     "output_type": "execute_result"
    }
   ],
   "source": [
    "# See if classifier classified all 3 images correctly\n",
    "y_new = y_test[:3]\n",
    "y_new"
   ]
  },
  {
   "cell_type": "markdown",
   "metadata": {},
   "source": [
    "### The model performed extremely well classifying the 3 new instances correctly.  \n",
    "- Training accuracy = 92%\n",
    "- Evaluation accuracy = 90%"
   ]
  },
  {
   "cell_type": "code",
   "execution_count": null,
   "metadata": {},
   "outputs": [],
   "source": []
  }
 ],
 "metadata": {
  "kernelspec": {
   "display_name": "Python 3",
   "language": "python",
   "name": "python3"
  },
  "language_info": {
   "codemirror_mode": {
    "name": "ipython",
    "version": 3
   },
   "file_extension": ".py",
   "mimetype": "text/x-python",
   "name": "python",
   "nbconvert_exporter": "python",
   "pygments_lexer": "ipython3",
   "version": "3.7.4"
  }
 },
 "nbformat": 4,
 "nbformat_minor": 2
}
