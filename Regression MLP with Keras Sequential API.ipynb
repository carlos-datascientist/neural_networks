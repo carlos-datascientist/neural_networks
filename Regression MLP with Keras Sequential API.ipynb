{
 "cells": [
  {
   "cell_type": "markdown",
   "metadata": {},
   "source": [
    "### Project Objectives:\n",
    "- In this project I aim to predict the median housing value using neural network model in Keras\n",
    "- Author: Carlos Caballero - Data Scientist\n",
    "- Dataset: CA housing dataset obtained from https://raw.githubusercoent.com/ageron/hansdon-ml2/master/datasets/housing\n",
    "- Models: Multilayer Perceptron (MLP), with stochastic gradient descent (SGD), no activation function due to single output \n",
    "- Method: Fit images and evaluate performance"
   ]
  },
  {
   "cell_type": "code",
   "execution_count": 1,
   "metadata": {},
   "outputs": [],
   "source": [
    "import pandas as pd\n",
    "import numpy as np\n",
    "import scipy as sc\n",
    "import seaborn as sns\n",
    "import sklearn\n",
    "import csv\n",
    "import matplotlib.pyplot as plt\n",
    "%matplotlib inline \n",
    "import tensorflow as tf\n",
    "from tensorflow import keras"
   ]
  },
  {
   "cell_type": "code",
   "execution_count": 3,
   "metadata": {},
   "outputs": [],
   "source": [
    "from sklearn.datasets import fetch_california_housing\n",
    "from sklearn.model_selection import train_test_split\n",
    "from sklearn.preprocessing import StandardScaler"
   ]
  },
  {
   "cell_type": "code",
   "execution_count": 4,
   "metadata": {},
   "outputs": [],
   "source": [
    "housing = fetch_california_housing()"
   ]
  },
  {
   "cell_type": "code",
   "execution_count": 5,
   "metadata": {},
   "outputs": [],
   "source": [
    "X_train_full, X_test, y_train_full, y_test = train_test_split(\n",
    "    housing.data, housing.target)"
   ]
  },
  {
   "cell_type": "code",
   "execution_count": 6,
   "metadata": {},
   "outputs": [],
   "source": [
    "X_train, X_valid, y_train, y_valid = train_test_split(\n",
    "    X_train_full, y_train_full)"
   ]
  },
  {
   "cell_type": "code",
   "execution_count": 8,
   "metadata": {},
   "outputs": [],
   "source": [
    "scaler = StandardScaler()\n",
    "X_train = scaler.fit_transform(X_train)\n",
    "X_valid = scaler.transform(X_valid)\n",
    "X_test = scaler.transform(X_test)"
   ]
  },
  {
   "cell_type": "code",
   "execution_count": 10,
   "metadata": {},
   "outputs": [],
   "source": [
    "model = keras.models.Sequential([\n",
    "    keras.layers.Dense(30, activation='relu', input_shape=X_train.shape[1:]),\n",
    "    keras.layers.Dense(1)\n",
    "])"
   ]
  },
  {
   "cell_type": "code",
   "execution_count": 12,
   "metadata": {},
   "outputs": [
    {
     "name": "stdout",
     "output_type": "stream",
     "text": [
      "Train on 11610 samples, validate on 3870 samples\n",
      "Epoch 1/20\n",
      "11610/11610 [==============================] - 1s 46us/sample - loss: 0.3395 - accuracy: 0.0034 - val_loss: 0.3853 - val_accuracy: 0.0016\n",
      "Epoch 2/20\n",
      "11610/11610 [==============================] - 0s 27us/sample - loss: 0.3430 - accuracy: 0.0034 - val_loss: 0.3759 - val_accuracy: 0.0016\n",
      "Epoch 3/20\n",
      "11610/11610 [==============================] - 0s 28us/sample - loss: 0.3342 - accuracy: 0.0034 - val_loss: 0.3604 - val_accuracy: 0.0016\n",
      "Epoch 4/20\n",
      "11610/11610 [==============================] - 0s 25us/sample - loss: 0.3325 - accuracy: 0.0034 - val_loss: 0.4506 - val_accuracy: 0.0016\n",
      "Epoch 5/20\n",
      "11610/11610 [==============================] - 0s 27us/sample - loss: 0.3329 - accuracy: 0.0034 - val_loss: 0.3820 - val_accuracy: 0.0016\n",
      "Epoch 6/20\n",
      "11610/11610 [==============================] - 0s 27us/sample - loss: 0.3308 - accuracy: 0.0034 - val_loss: 0.3699 - val_accuracy: 0.0016\n",
      "Epoch 7/20\n",
      "11610/11610 [==============================] - 0s 26us/sample - loss: 0.3302 - accuracy: 0.0034 - val_loss: 0.4107 - val_accuracy: 0.0016\n",
      "Epoch 8/20\n",
      "11610/11610 [==============================] - 0s 27us/sample - loss: 0.3406 - accuracy: 0.0034 - val_loss: 0.4265 - val_accuracy: 0.0016\n",
      "Epoch 9/20\n",
      "11610/11610 [==============================] - 0s 28us/sample - loss: 0.3416 - accuracy: 0.0034 - val_loss: 0.3609 - val_accuracy: 0.0016\n",
      "Epoch 10/20\n",
      "11610/11610 [==============================] - 0s 28us/sample - loss: 0.3281 - accuracy: 0.0034 - val_loss: 0.4078 - val_accuracy: 0.0016\n",
      "Epoch 11/20\n",
      "11610/11610 [==============================] - 0s 27us/sample - loss: 0.3290 - accuracy: 0.0034 - val_loss: 0.3637 - val_accuracy: 0.0016\n",
      "Epoch 12/20\n",
      "11610/11610 [==============================] - 0s 26us/sample - loss: 0.3253 - accuracy: 0.0034 - val_loss: 0.3620 - val_accuracy: 0.0016\n",
      "Epoch 13/20\n",
      "11610/11610 [==============================] - 0s 28us/sample - loss: 0.3258 - accuracy: 0.0034 - val_loss: 0.3528 - val_accuracy: 0.0016\n",
      "Epoch 14/20\n",
      "11610/11610 [==============================] - 0s 27us/sample - loss: 0.3249 - accuracy: 0.0034 - val_loss: 0.3970 - val_accuracy: 0.0016\n",
      "Epoch 15/20\n",
      "11610/11610 [==============================] - 0s 27us/sample - loss: 0.3260 - accuracy: 0.0034 - val_loss: 0.3912 - val_accuracy: 0.0016\n",
      "Epoch 16/20\n",
      "11610/11610 [==============================] - 0s 27us/sample - loss: 0.3233 - accuracy: 0.0034 - val_loss: 1.1039 - val_accuracy: 0.0016\n",
      "Epoch 17/20\n",
      "11610/11610 [==============================] - 0s 27us/sample - loss: 0.3261 - accuracy: 0.0034 - val_loss: 0.4118 - val_accuracy: 0.0016\n",
      "Epoch 18/20\n",
      "11610/11610 [==============================] - 0s 27us/sample - loss: 0.3207 - accuracy: 0.0034 - val_loss: 0.3614 - val_accuracy: 0.0016\n",
      "Epoch 19/20\n",
      "11610/11610 [==============================] - 0s 27us/sample - loss: 0.3206 - accuracy: 0.0034 - val_loss: 0.4288 - val_accuracy: 0.0016\n",
      "Epoch 20/20\n",
      "11610/11610 [==============================] - 0s 28us/sample - loss: 0.3202 - accuracy: 0.0034 - val_loss: 0.3672 - val_accuracy: 0.0016\n"
     ]
    }
   ],
   "source": [
    "model.compile(loss='mean_squared_error', optimizer='sgd', metrics=['accuracy'])\n",
    "history = model.fit(X_train, y_train, epochs=20,\n",
    "                   validation_data=(X_valid, y_valid))"
   ]
  },
  {
   "cell_type": "code",
   "execution_count": 13,
   "metadata": {},
   "outputs": [
    {
     "name": "stdout",
     "output_type": "stream",
     "text": [
      "5160/5160 [==============================] - 0s 14us/sample - loss: 0.3899 - accuracy: 0.0031\n"
     ]
    }
   ],
   "source": [
    "mse_test = model.evaluate(X_test, y_test)\n",
    "X_new = X_test[:3] # created 3 new instances\n",
    "y_pred = model.predict(X_new)"
   ]
  },
  {
   "cell_type": "code",
   "execution_count": 14,
   "metadata": {},
   "outputs": [
    {
     "data": {
      "image/png": "[encoded data removed]",
      "text/plain": [
       "<Figure size 864x576 with 1 Axes>"
      ]
     },
     "metadata": {
      "needs_background": "light"
     },
     "output_type": "display_data"
    }
   ],
   "source": [
    "# Visualize model\n",
    "pd.DataFrame(history.history).plot(figsize=(12,8))\n",
    "plt.grid(True)\n",
    "plt.gca().set_ylim(0,1) #set vertical range to [0-1]\n",
    "plt.show()"
   ]
  },
  {
   "cell_type": "markdown",
   "metadata": {},
   "source": [
    "### Accuracy is low, need to build a more complex network using functional API instead of sequential API"
   ]
  },
  {
   "cell_type": "code",
   "execution_count": null,
   "metadata": {},
   "outputs": [],
   "source": []
  }
 ],
 "metadata": {
  "kernelspec": {
   "display_name": "Python 3",
   "language": "python",
   "name": "python3"
  },
  "language_info": {
   "codemirror_mode": {
    "name": "ipython",
    "version": 3
   },
   "file_extension": ".py",
   "mimetype": "text/x-python",
   "name": "python",
   "nbconvert_exporter": "python",
   "pygments_lexer": "ipython3",
   "version": "3.7.4"
  }
 },
 "nbformat": 4,
 "nbformat_minor": 2
}
